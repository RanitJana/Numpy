{
 "cells": [
  {
   "cell_type": "markdown",
   "id": "180a4118",
   "metadata": {},
   "source": [
    "# Array properties"
   ]
  },
  {
   "cell_type": "markdown",
   "id": "01d09cfa",
   "metadata": {},
   "source": [
    "---\n",
    "- arr.shape\n",
    "- arr.size\n",
    "- arr.ndim\n",
    "- arr.dtype\n",
    "- arr.T"
   ]
  },
  {
   "cell_type": "code",
   "execution_count": 10,
   "id": "cfbd5783",
   "metadata": {},
   "outputs": [
    {
     "name": "stdout",
     "output_type": "stream",
     "text": [
      "[[ 0  1  2  3  4]\n",
      " [ 5  6  7  8  9]\n",
      " [10 11 12 13 14]\n",
      " [15 16 17 18 19]]\n",
      "\n",
      "Array shpae :  (4, 5)\n",
      "Array size :  20\n",
      "Array dimension :  2\n",
      "Array's data type :  int64\n",
      "\n",
      "Transpose of arr : \n",
      " [[ 0  5 10 15]\n",
      " [ 1  6 11 16]\n",
      " [ 2  7 12 17]\n",
      " [ 3  8 13 18]\n",
      " [ 4  9 14 19]]\n",
      "\n",
      "Transposed array's shpae :  (5, 4)\n",
      "Transposed array's size :  20\n",
      "Transposed array's dimension :  2\n",
      "Transposed array's data type :  int64\n"
     ]
    }
   ],
   "source": [
    "import numpy as np\n",
    "\n",
    "arr = np.arange(20,dtype=np.int64).reshape((4,5))\n",
    "arrTranspose = arr.T.copy() # .copy() is used to create a copy, otherwise arr.T returns view of the arr, not a copy.\n",
    "\n",
    "print(arr,end=\"\\n\\n\")\n",
    "\n",
    "print(\"Array shpae : \",arr.shape)\n",
    "print(\"Array size : \",arr.size)\n",
    "print(\"Array dimension : \",arr.ndim)\n",
    "print(\"Array's data type : \",arr.dtype)\n",
    "\n",
    "print(\"\\nTranspose of arr : \\n\",arrTranspose,end=\"\\n\\n\")\n",
    "print(\"Transposed array's shpae : \",arrTranspose.shape)\n",
    "print(\"Transposed array's size : \",arrTranspose.size)\n",
    "print(\"Transposed array's dimension : \",arrTranspose.ndim)\n",
    "print(\"Transposed array's data type : \",arrTranspose.dtype)"
   ]
  }
 ],
 "metadata": {
  "kernelspec": {
   "display_name": "venv",
   "language": "python",
   "name": "python3"
  },
  "language_info": {
   "codemirror_mode": {
    "name": "ipython",
    "version": 3
   },
   "file_extension": ".py",
   "mimetype": "text/x-python",
   "name": "python",
   "nbconvert_exporter": "python",
   "pygments_lexer": "ipython3",
   "version": "3.12.3"
  }
 },
 "nbformat": 4,
 "nbformat_minor": 5
}
