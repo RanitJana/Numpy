{
 "cells": [
  {
   "cell_type": "markdown",
   "id": "dffc3545",
   "metadata": {},
   "source": [
    "# Indexing and slicing\n",
    "\n",
    "---"
   ]
  },
  {
   "cell_type": "code",
   "execution_count": 18,
   "id": "ca515f7a",
   "metadata": {},
   "outputs": [
    {
     "name": "stdout",
     "output_type": "stream",
     "text": [
      "[ 0.    1.82  3.64  5.45  7.27  9.09 10.91 12.73 14.55 16.36 18.18 20.  ]\n",
      "\n",
      "Value at index 1 :  1.82\n",
      "Sliced :  [ 3.64  7.27 10.91 14.55]\n"
     ]
    }
   ],
   "source": [
    "import numpy as np\n",
    "\n",
    "vector = np.linspace(0,20,12).round(2)\n",
    "print(vector,end=\"\\n\\n\")\n",
    "\n",
    "print(\"Value at index 1 : \",vector[1])\n",
    "#slicing retuns view\n",
    "print(\"Sliced : \",vector[2:9:2])"
   ]
  },
  {
   "cell_type": "code",
   "execution_count": null,
   "id": "94b36484",
   "metadata": {},
   "outputs": [
    {
     "name": "stdout",
     "output_type": "stream",
     "text": [
      "[[ 0  1  2  3  4]\n",
      " [ 5  6  7  8  9]\n",
      " [10 11 12 13 14]\n",
      " [15 16 17 18 19]]\n",
      "\n",
      "Value at position (2,3) :  13\n",
      "Another way :  13\n",
      "\n",
      "Target row number 2 :  [5 6 7 8 9]\n",
      "Targe column number 4 : [ 3  8 13 18]\n",
      "\n",
      "Target row number 2 with 2 step count :  [5 7 9]\n",
      "Targe column number 4 with 2 step count : [ 3 13]\n",
      "\n"
     ]
    }
   ],
   "source": [
    "import numpy as np\n",
    "\n",
    "matrix = np.arange(20).reshape((4,5))\n",
    "print(matrix,end=\"\\n\\n\")\n",
    "\n",
    "print(\"Value at position (2,3) : \",matrix[2, 3])\n",
    "print(\"Another way : \",matrix[2][3],end=\"\\n\\n\")\n",
    "\n",
    "print(\"Target row number 2 : \",matrix[1])\n",
    "print(\"Targe column number 4 :\",matrix[:,3],end=\"\\n\\n\")\n",
    "\n",
    "print(\"Target row number 2 with 2 step count : \",matrix[1,::2])\n",
    "print(\"Targe column number 4 with 2 step count :\",matrix[::2,3],end=\"\\n\\n\")\n",
    "\n",
    "# print(\"Submatrix using slicing :\\n\",matrix[1:2,])"
   ]
  },
  {
   "cell_type": "markdown",
   "id": "6c0bd8dd",
   "metadata": {},
   "source": [
    "## Boolean indexing and filtering\n",
    "\n",
    "---"
   ]
  },
  {
   "cell_type": "code",
   "execution_count": 37,
   "id": "aeb54fd4",
   "metadata": {},
   "outputs": [
    {
     "name": "stdout",
     "output_type": "stream",
     "text": [
      "[[ 0  1  2  3  4]\n",
      " [ 5  6  7  8  9]\n",
      " [10 11 12 13 14]]\n",
      "\n",
      "Boolean Values for arr :\n",
      " [[False False False False False]\n",
      " [False False False False False]\n",
      " [ True  True  True  True  True]]\n",
      "Filtered Value :\n",
      " [10 11 12 13 14]\n"
     ]
    }
   ],
   "source": [
    "import numpy as np\n",
    "\n",
    "arr = np.arange(15).reshape((3,5))\n",
    "print(arr,end=\"\\n\\n\")\n",
    "\n",
    "booleanvalues = arr > 9\n",
    "print(\"Boolean Values for arr :\\n\",booleanvalues)\n",
    "\n",
    "print(\"Filtered Value :\\n\",arr[booleanvalues])"
   ]
  }
 ],
 "metadata": {
  "kernelspec": {
   "display_name": "venv",
   "language": "python",
   "name": "python3"
  },
  "language_info": {
   "codemirror_mode": {
    "name": "ipython",
    "version": 3
   },
   "file_extension": ".py",
   "mimetype": "text/x-python",
   "name": "python",
   "nbconvert_exporter": "python",
   "pygments_lexer": "ipython3",
   "version": "3.12.3"
  }
 },
 "nbformat": 4,
 "nbformat_minor": 5
}
