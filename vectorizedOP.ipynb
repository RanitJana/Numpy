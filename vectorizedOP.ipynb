{
 "cells": [
  {
   "cell_type": "markdown",
   "id": "95c39723",
   "metadata": {},
   "source": [
    "# Vectorized operations of Element wise O/P\n",
    "\n",
    "---"
   ]
  },
  {
   "cell_type": "markdown",
   "id": "cf3078d7",
   "metadata": {},
   "source": [
    "- a+b\n",
    "- a-b\n",
    "- a*b\n",
    "- a/b\n",
    "- a**n"
   ]
  },
  {
   "cell_type": "code",
   "execution_count": 16,
   "id": "63a29472",
   "metadata": {},
   "outputs": [
    {
     "name": "stdout",
     "output_type": "stream",
     "text": [
      "First matrix :\n",
      " [[0 1 2]\n",
      " [3 4 5]\n",
      " [6 7 8]]\n",
      "Second matrix :\n",
      " [[10 11 12]\n",
      " [13 14 15]\n",
      " [16 17 18]]\n",
      "\n",
      "First+Second :  [[10 12 14]\n",
      " [16 18 20]\n",
      " [22 24 26]]\n",
      "First-Second :  [[-10 -10 -10]\n",
      " [-10 -10 -10]\n",
      " [-10 -10 -10]]\n",
      "First*Second :  [[  0  11  24]\n",
      " [ 39  56  75]\n",
      " [ 96 119 144]]\n",
      "First/Second :  [[0.   0.09 0.17]\n",
      " [0.23 0.29 0.33]\n",
      " [0.38 0.41 0.44]]\n",
      "First^2 [[ 0  1  4]\n",
      " [ 9 16 25]\n",
      " [36 49 64]]\n"
     ]
    }
   ],
   "source": [
    "import numpy as np\n",
    "\n",
    "a = np.arange(9).reshape((3,3))\n",
    "b = np.arange(10,19).reshape((3,3))\n",
    "\n",
    "print(\"First matrix :\\n\",a)\n",
    "print(\"Second matrix :\\n\",b,end=\"\\n\\n\")\n",
    "\n",
    "print(\"First+Second : \",a+b)\n",
    "print(\"First-Second : \",a-b)\n",
    "print(\"First*Second : \",a*b)\n",
    "print(\"First/Second : \",(a/b).round(2))\n",
    "print(\"First^2\",a**2)\n"
   ]
  },
  {
   "cell_type": "markdown",
   "id": "b829b11c",
   "metadata": {},
   "source": [
    "---\n",
    "- np.sqrt(arr)\n",
    "- np.exp(arr)\n",
    "- np.log(arr)\n",
    "- np.abs(arr)\n",
    "- np.clip(arr,min,max)\n",
    "- np.round(arr)"
   ]
  },
  {
   "cell_type": "code",
   "execution_count": 30,
   "id": "58811f20",
   "metadata": {},
   "outputs": [
    {
     "name": "stdout",
     "output_type": "stream",
     "text": [
      "[[ 63.3   99.9  100.19]\n",
      " [  2.48  11.6  200.77]]\n",
      "\n",
      "Square root :\n",
      " [[ 7.96  9.99 10.01]\n",
      " [ 1.57  3.41 14.17]]\n",
      "Exponential :\n",
      " [[3.09628340e+27 2.43230897e+43 3.25060457e+43]\n",
      " [1.19400000e+01 1.09097800e+05 1.56064143e+87]]\n",
      "Logarithm :\n",
      " [[4.15 4.6  4.61]\n",
      " [0.91 2.45 5.3 ]]\n",
      "Absolue :\n",
      " [[ 63.3   99.9  100.19]\n",
      " [  2.48  11.6  200.77]]\n",
      "Clip :\n",
      " [[20.  20.  20. ]\n",
      " [10.  11.6 20. ]]\n",
      "Round :\n",
      " [[ 63. 100. 100.]\n",
      " [  2.  12. 201.]]\n"
     ]
    }
   ],
   "source": [
    "import numpy as np\n",
    "\n",
    "matrix = np.array([\n",
    " [ 63.3,   99.9, 100.19],\n",
    " [  2.48,   11.6, 200.77]\n",
    " ])\n",
    "\n",
    "print(matrix,end=\"\\n\\n\")\n",
    "\n",
    "print(\"Square root :\\n\",np.sqrt(matrix).round(2))\n",
    "print(\"Exponential :\\n\",np.exp(matrix).round(2))\n",
    "print(\"Logarithm :\\n\",np.log(matrix).round(2))\n",
    "print(\"Absolue :\\n\",np.abs(matrix).round(2))\n",
    "print(\"Clip :\\n\",np.clip(matrix,10,20).round(2))\n",
    "print(\"Round :\\n\",np.round(matrix))\n"
   ]
  }
 ],
 "metadata": {
  "kernelspec": {
   "display_name": "venv",
   "language": "python",
   "name": "python3"
  },
  "language_info": {
   "codemirror_mode": {
    "name": "ipython",
    "version": 3
   },
   "file_extension": ".py",
   "mimetype": "text/x-python",
   "name": "python",
   "nbconvert_exporter": "python",
   "pygments_lexer": "ipython3",
   "version": "3.12.3"
  }
 },
 "nbformat": 4,
 "nbformat_minor": 5
}
