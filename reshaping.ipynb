{
 "cells": [
  {
   "cell_type": "markdown",
   "id": "bfe92e38",
   "metadata": {},
   "source": [
    "# Array reshaping and changing structure"
   ]
  },
  {
   "cell_type": "markdown",
   "id": "591d8d7c",
   "metadata": {},
   "source": [
    "---\n",
    "- arr.reshape((row,col,...))"
   ]
  },
  {
   "cell_type": "code",
   "execution_count": 26,
   "id": "b522f4c2",
   "metadata": {},
   "outputs": [
    {
     "name": "stdout",
     "output_type": "stream",
     "text": [
      "[ 0  1  2  3  4  5  6  7  8  9 10 11 12 13 14 15 16 17 18 19 20 21 22 23]\n",
      "\n",
      "[[ 0  1  2  3  4  5]\n",
      " [ 6  7  8  9 10 11]\n",
      " [12 13 14 15 16 17]\n",
      " [18 19 20 21 22 23]]\n",
      "\n",
      "[[[[ 0  1  2]\n",
      "   [ 3  4  5]]\n",
      "\n",
      "  [[ 6  7  8]\n",
      "   [ 9 10 11]]]\n",
      "\n",
      "\n",
      " [[[12 13 14]\n",
      "   [15 16 17]]\n",
      "\n",
      "  [[18 19 20]\n",
      "   [21 22 23]]]]\n"
     ]
    }
   ],
   "source": [
    "import numpy as np\n",
    "\n",
    "vector = np.arange(24)\n",
    "print(vector,end=\"\\n\\n\")\n",
    "\n",
    "matrix = vector.reshape((4,6))  # retuns as a view\n",
    "print(matrix,end=\"\\n\\n\")\n",
    "\n",
    "tensor = matrix.reshape((2,2,2,3))\n",
    "print(tensor)"
   ]
  },
  {
   "cell_type": "markdown",
   "id": "4015d5a9",
   "metadata": {},
   "source": [
    "---\n",
    "- arr.flatten()\n",
    "- arr.ravel()"
   ]
  },
  {
   "cell_type": "code",
   "execution_count": 27,
   "id": "71c94ddc",
   "metadata": {},
   "outputs": [
    {
     "name": "stdout",
     "output_type": "stream",
     "text": [
      "[ 0  1  2  3  4  5  6  7  8  9 10 11 12 13 14 15 16 17 18 19]\n",
      "\n",
      "[ 0  1  2  3  4  5  6  7  8  9 10 11 12 13 14 15 16 17 18 19]\n"
     ]
    }
   ],
   "source": [
    "import numpy as np\n",
    "\n",
    "arr = np.arange(20).reshape((4,5))\n",
    "\n",
    "flatten = arr.flatten() # returns copy\n",
    "print(flatten,end=\"\\n\\n\")\n",
    "\n",
    "raveled = arr.ravel() # retuns view\n",
    "print(raveled)"
   ]
  },
  {
   "cell_type": "markdown",
   "id": "0a7644cb",
   "metadata": {},
   "source": [
    "---\n",
    "- arr.swapaxes(0,1)"
   ]
  },
  {
   "cell_type": "code",
   "execution_count": 28,
   "id": "3a04e1e0",
   "metadata": {},
   "outputs": [
    {
     "name": "stdout",
     "output_type": "stream",
     "text": [
      "[[[ 0  1  2  3]\n",
      "  [ 4  5  6  7]]\n",
      "\n",
      " [[ 8  9 10 11]\n",
      "  [12 13 14 15]]\n",
      "\n",
      " [[16 17 18 19]\n",
      "  [20 21 22 23]]]\n",
      "\n",
      "[[[ 0  4]\n",
      "  [ 1  5]\n",
      "  [ 2  6]\n",
      "  [ 3  7]]\n",
      "\n",
      " [[ 8 12]\n",
      "  [ 9 13]\n",
      "  [10 14]\n",
      "  [11 15]]\n",
      "\n",
      " [[16 20]\n",
      "  [17 21]\n",
      "  [18 22]\n",
      "  [19 23]]]\n"
     ]
    }
   ],
   "source": [
    "import numpy as np\n",
    "\n",
    "tensor = np.arange(24).reshape((3,2,4))\n",
    "print(tensor,end=\"\\n\\n\")\n",
    "\n",
    "swappedTenser = tensor.swapaxes(1,2) # returns view\n",
    "print(swappedTenser)\n"
   ]
  }
 ],
 "metadata": {
  "kernelspec": {
   "display_name": "venv",
   "language": "python",
   "name": "python3"
  },
  "language_info": {
   "codemirror_mode": {
    "name": "ipython",
    "version": 3
   },
   "file_extension": ".py",
   "mimetype": "text/x-python",
   "name": "python",
   "nbconvert_exporter": "python",
   "pygments_lexer": "ipython3",
   "version": "3.12.3"
  }
 },
 "nbformat": 4,
 "nbformat_minor": 5
}
