{
 "cells": [
  {
   "cell_type": "markdown",
   "id": "5a524065",
   "metadata": {},
   "source": [
    "# Aggregate functions"
   ]
  },
  {
   "cell_type": "markdown",
   "id": "a53973f0",
   "metadata": {},
   "source": [
    "---\n",
    "- np.sum(arr,axis)"
   ]
  },
  {
   "cell_type": "code",
   "execution_count": 1,
   "id": "e6a53f4a",
   "metadata": {},
   "outputs": [
    {
     "name": "stdout",
     "output_type": "stream",
     "text": [
      "[[ 63   0 100   7 -75  61]\n",
      " [  0   1 200   2   3   4]\n",
      " [  5   6 300   7   8   9]]\n",
      "\n",
      "Total sum :  701\n",
      "Row-wise sum :  [156 210 335]\n",
      "Column-wise sum :  [ 68   7 600  16 -64  74]\n"
     ]
    }
   ],
   "source": [
    "import numpy as np\n",
    "\n",
    "matrix = np.array([\n",
    " [ 63,   0, 100,   7, -75,  61],\n",
    " [  0,   1, 200,   2,   3,   4],\n",
    " [  5,   6, 300,   7,   8,   9]\n",
    " ])\n",
    "\n",
    "print(matrix,end=\"\\n\\n\")\n",
    "\n",
    "#sum\n",
    "totalSum = np.sum(matrix)\n",
    "print(\"Total sum : \",totalSum)\n",
    "print(\"Row-wise sum : \",np.sum(matrix,axis=1))\n",
    "print(\"Column-wise sum : \",np.sum(matrix,axis=0))\n"
   ]
  },
  {
   "cell_type": "markdown",
   "id": "11a10152",
   "metadata": {},
   "source": [
    "---\n",
    "- np.mean(arr,axis)"
   ]
  },
  {
   "cell_type": "code",
   "execution_count": 2,
   "id": "e08d197a",
   "metadata": {},
   "outputs": [
    {
     "name": "stdout",
     "output_type": "stream",
     "text": [
      "[[ 63   0 100   7 -75  61]\n",
      " [  0   1 200   2   3   4]\n",
      " [  5   6 300   7   8   9]]\n",
      "\n",
      "Total mean :  38.94\n",
      "Row-wise mean :  [26.   35.   55.83]\n",
      "Column-wise mean :  [ 22.67   2.33 200.     5.33 -21.33  24.67]\n"
     ]
    }
   ],
   "source": [
    "import numpy as np\n",
    "\n",
    "matrix = np.array([\n",
    " [ 63,   0, 100,   7, -75,  61],\n",
    " [  0,   1, 200,   2,   3,   4],\n",
    " [  5,   6, 300,   7,   8,   9]\n",
    " ])\n",
    "\n",
    "print(matrix,end=\"\\n\\n\")\n",
    "\n",
    "#mean\n",
    "totalmean = np.mean(matrix).round(2)\n",
    "print(\"Total mean : \",totalmean)\n",
    "print(\"Row-wise mean : \",np.mean(matrix,axis=1).round(2))\n",
    "print(\"Column-wise mean : \",np.mean(matrix,axis=0).round(2))\n"
   ]
  },
  {
   "cell_type": "markdown",
   "id": "88b8fc4c",
   "metadata": {},
   "source": [
    "---\n",
    "- np.median(arr,axis)"
   ]
  },
  {
   "cell_type": "code",
   "execution_count": 3,
   "id": "e62ece52",
   "metadata": {},
   "outputs": [
    {
     "name": "stdout",
     "output_type": "stream",
     "text": [
      "[[ 63   0 100   7 -75  61]\n",
      " [  0   1 200   2   3   4]\n",
      " [  5   6 300   7   8   9]]\n",
      "\n",
      "Total median :  6.5\n",
      "Row-wise median :  [34.   2.5  7.5]\n",
      "Column-wise median :  [  5.   1. 200.   7.   3.   9.]\n"
     ]
    }
   ],
   "source": [
    "import numpy as np\n",
    "\n",
    "matrix = np.array([\n",
    " [ 63,   0, 100,   7, -75,  61],\n",
    " [  0,   1, 200,   2,   3,   4],\n",
    " [  5,   6, 300,   7,   8,   9]\n",
    " ])\n",
    "\n",
    "print(matrix,end=\"\\n\\n\")\n",
    "\n",
    "#median\n",
    "totalmedian = np.median(matrix).round(2)\n",
    "print(\"Total median : \",totalmedian)\n",
    "print(\"Row-wise median : \",np.median(matrix,axis=1).round(2))\n",
    "print(\"Column-wise median : \",np.median(matrix,axis=0).round(2))"
   ]
  },
  {
   "cell_type": "markdown",
   "id": "a68b021b",
   "metadata": {},
   "source": [
    "---\n",
    "- np.min(arr,axis)\n",
    "- np.max(arr,axis)"
   ]
  },
  {
   "cell_type": "code",
   "execution_count": 4,
   "id": "311586e8",
   "metadata": {},
   "outputs": [
    {
     "name": "stdout",
     "output_type": "stream",
     "text": [
      "[[ 63   0 100   7 -75  61]\n",
      " [  0   1 200   2   3   4]\n",
      " [  5   6 300   7   8   9]]\n",
      "\n",
      "Total max :  300\n",
      "Row-wise max :  [100 200 300]\n",
      "Column-wise max :  [ 63   6 300   7   8  61]\n",
      "\n",
      "Total min :  -75\n",
      "Row-wise min :  [-75   0   5]\n",
      "Column-wise min :  [  0   0 100   2 -75   4]\n"
     ]
    }
   ],
   "source": [
    "import numpy as np\n",
    "\n",
    "matrix = np.array([\n",
    " [ 63,   0, 100,   7, -75,  61],\n",
    " [  0,   1, 200,   2,   3,   4],\n",
    " [  5,   6, 300,   7,   8,   9]\n",
    " ])\n",
    "\n",
    "print(matrix,end=\"\\n\\n\")\n",
    "\n",
    "#max\n",
    "totalmax = np.max(matrix).round(2)\n",
    "print(\"Total max : \",totalmax)\n",
    "print(\"Row-wise max : \",np.max(matrix,axis=1).round(2))\n",
    "print(\"Column-wise max : \",np.max(matrix,axis=0).round(2),end=\"\\n\\n\")\n",
    "\n",
    "#min\n",
    "totalmin = np.min(matrix).round(2)\n",
    "print(\"Total min : \",totalmin)\n",
    "print(\"Row-wise min : \",np.min(matrix,axis=1).round(2))\n",
    "print(\"Column-wise min : \",np.min(matrix,axis=0).round(2))"
   ]
  }
 ],
 "metadata": {
  "kernelspec": {
   "display_name": "venv",
   "language": "python",
   "name": "python3"
  },
  "language_info": {
   "codemirror_mode": {
    "name": "ipython",
    "version": 3
   },
   "file_extension": ".py",
   "mimetype": "text/x-python",
   "name": "python",
   "nbconvert_exporter": "python",
   "pygments_lexer": "ipython3",
   "version": "3.12.3"
  }
 },
 "nbformat": 4,
 "nbformat_minor": 5
}
