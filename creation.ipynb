{
 "cells": [
  {
   "cell_type": "markdown",
   "id": "78cde089",
   "metadata": {},
   "source": [
    "# Array creation methods"
   ]
  },
  {
   "cell_type": "markdown",
   "id": "a0a7b68c",
   "metadata": {},
   "source": [
    "---\n",
    "- np.arrary(list)"
   ]
  },
  {
   "cell_type": "code",
   "execution_count": 7,
   "id": "dcd6e7ce",
   "metadata": {},
   "outputs": [
    {
     "name": "stdout",
     "output_type": "stream",
     "text": [
      "Vector :\n",
      " [1 2 3 4]\n",
      "Matrix :\n",
      " [[10  3 -9]\n",
      " [-4 34  0]]\n",
      "Tensor :\n",
      " [[[-90  66]\n",
      "  [ 37  48]]\n",
      "\n",
      " [[ 17  34]\n",
      "  [ 75 -88]]]\n"
     ]
    }
   ],
   "source": [
    "import numpy as np\n",
    "\n",
    "arr1 = np.array([1,2,3,4])  # vector\n",
    "arr2 = np.array([   # matrix\n",
    "    [10,3,-9],\n",
    "    [-4,34,0]\n",
    "])\n",
    "arr3 = np.array([   # tensor\n",
    "    [[-90,66],[37,48]],\n",
    "    [[17,34],[75,-88]]\n",
    "])\n",
    "\n",
    "print(\"Vector :\\n\",arr1)\n",
    "print(\"Matrix :\\n\",arr2)\n",
    "print(\"Tensor :\\n\",arr3)"
   ]
  },
  {
   "cell_type": "markdown",
   "id": "02a9134d",
   "metadata": {},
   "source": [
    "---\n",
    "- np.zeros((row,col))\n",
    "- np.ones((row,col))\n",
    "- np.full((row,col))"
   ]
  },
  {
   "cell_type": "code",
   "execution_count": 8,
   "id": "0787fbf3",
   "metadata": {},
   "outputs": [
    {
     "name": "stdout",
     "output_type": "stream",
     "text": [
      "[[0. 0. 0. 0.]\n",
      " [0. 0. 0. 0.]\n",
      " [0. 0. 0. 0.]]\n",
      "\n",
      "[[1. 1. 1.]\n",
      " [1. 1. 1.]]\n",
      "\n",
      "[[12 12 12 12 12]\n",
      " [12 12 12 12 12]]\n"
     ]
    }
   ],
   "source": [
    "import numpy as np\n",
    "\n",
    "zeros = np.zeros((3,4))\n",
    "ones = np.ones((2,3))\n",
    "full = np.full((2,5),12)\n",
    "\n",
    "print(zeros, ones, full, sep=\"\\n\\n\")"
   ]
  },
  {
   "cell_type": "markdown",
   "id": "41e8d168",
   "metadata": {},
   "source": [
    "---\n",
    "- np.eye(row)"
   ]
  },
  {
   "cell_type": "code",
   "execution_count": 9,
   "id": "65ecc63a",
   "metadata": {},
   "outputs": [
    {
     "name": "stdout",
     "output_type": "stream",
     "text": [
      "[[1. 0. 0. 0. 0.]\n",
      " [0. 1. 0. 0. 0.]\n",
      " [0. 0. 1. 0. 0.]\n",
      " [0. 0. 0. 1. 0.]\n",
      " [0. 0. 0. 0. 1.]]\n"
     ]
    }
   ],
   "source": [
    "import numpy as np\n",
    "\n",
    "identity = np.eye(5)\n",
    "\n",
    "print(identity)"
   ]
  },
  {
   "cell_type": "markdown",
   "id": "9dfca342",
   "metadata": {},
   "source": [
    "---\n",
    "- np.random.random((row,col))"
   ]
  },
  {
   "cell_type": "code",
   "execution_count": 10,
   "id": "797fd33f",
   "metadata": {},
   "outputs": [
    {
     "name": "stdout",
     "output_type": "stream",
     "text": [
      "[[0.57037915 0.53035372 0.74515042]\n",
      " [0.32126296 0.44846821 0.30329824]]\n"
     ]
    }
   ],
   "source": [
    "import numpy as np\n",
    "\n",
    "random = np.random.random((2,3))\n",
    "\n",
    "print(random)"
   ]
  },
  {
   "cell_type": "markdown",
   "id": "059d7719",
   "metadata": {},
   "source": [
    "---\n",
    "- np.arange(start,end,step)\n",
    "- np.linspace(start,end,count)"
   ]
  },
  {
   "cell_type": "code",
   "execution_count": 11,
   "id": "7b4a3d45",
   "metadata": {},
   "outputs": [
    {
     "name": "stdout",
     "output_type": "stream",
     "text": [
      "[ 0  2  4  6  8 10 12 14 16 18]\n",
      "\n",
      "[10.   10.53 11.05 11.58 12.11 12.63 13.16 13.68 14.21 14.74 15.26 15.79\n",
      " 16.32 16.84 17.37 17.89 18.42 18.95 19.47 20.  ]\n"
     ]
    }
   ],
   "source": [
    "import numpy as np\n",
    "\n",
    "arr = np.arange(0,20,2)\n",
    "count = np.linspace(10,20,20).round(2)\n",
    "\n",
    "print(arr,count,sep=\"\\n\\n\")"
   ]
  },
  {
   "cell_type": "markdown",
   "id": "3ff99d49",
   "metadata": {},
   "source": [
    "---\n",
    "## Cheatsheet\n",
    "\n",
    "- np.array(list)\n",
    "- np.zeros((row,col))\n",
    "- np.ones((row,col))\n",
    "- np.full((row,col),value)\n",
    "- np.eye(row)\n",
    "- np.random.random((row,col))\n",
    "- np.arange(start,end,step)\n",
    "- np.linspace(start,end,count)"
   ]
  }
 ],
 "metadata": {
  "kernelspec": {
   "display_name": "venv",
   "language": "python",
   "name": "python3"
  },
  "language_info": {
   "codemirror_mode": {
    "name": "ipython",
    "version": 3
   },
   "file_extension": ".py",
   "mimetype": "text/x-python",
   "name": "python",
   "nbconvert_exporter": "python",
   "pygments_lexer": "ipython3",
   "version": "3.12.3"
  }
 },
 "nbformat": 4,
 "nbformat_minor": 5
}
