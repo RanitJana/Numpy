{
 "cells": [
  {
   "cell_type": "markdown",
   "id": "82de9871",
   "metadata": {},
   "source": [
    "# Linear algebra"
   ]
  },
  {
   "cell_type": "markdown",
   "id": "e2ef4923",
   "metadata": {},
   "source": [
    "---\n",
    "- np.dot(a,b) or a.dot(b)\n",
    "- np.matmul(a,b) or a@b\n",
    "- np.cross(a,b)"
   ]
  },
  {
   "cell_type": "code",
   "execution_count": 8,
   "id": "d98ac959",
   "metadata": {},
   "outputs": [
    {
     "name": "stdout",
     "output_type": "stream",
     "text": [
      "First matrix :\n",
      " [[ 1  2  3  4]\n",
      " [ 5  6  7  8]\n",
      " [ 9 10 11 12]]\n",
      "Second matrix :\n",
      " [[ 1  5  9]\n",
      " [ 2  6 10]\n",
      " [ 3  7 11]\n",
      " [ 4  8 12]]\n",
      "\n",
      "Dot product :\n",
      " [[ 30  70 110]\n",
      " [ 70 174 278]\n",
      " [110 278 446]]\n",
      "Matrix multiplication :\n",
      " [[ 30  70 110]\n",
      " [ 70 174 278]\n",
      " [110 278 446]]\n",
      "Cross product :\n",
      " [ 1  1 -1]\n"
     ]
    }
   ],
   "source": [
    "import numpy as np\n",
    "\n",
    "matrix = np.arange(1,13).reshape((3,4))\n",
    "matrixT = matrix.T.copy()\n",
    "\n",
    "print(\"First matrix :\\n\",matrix)\n",
    "print(\"Second matrix :\\n\",matrixT,end=\"\\n\\n\")\n",
    "\n",
    "print(\"Dot product :\\n\",matrix.dot(matrixT))\n",
    "print(\"Matrix multiplication :\\n\",matrix@matrixT)\n",
    "print(\"Cross product :\\n\",np.cross(np.array([1,2,3]),np.array([2,3,5])))"
   ]
  },
  {
   "cell_type": "markdown",
   "id": "16994c80",
   "metadata": {},
   "source": [
    "---\n",
    "- np.lialg.inv(arr)\n",
    "- np.linalg.det(arr)\n",
    "- np.linalg.norm(arr)"
   ]
  },
  {
   "cell_type": "code",
   "execution_count": 23,
   "id": "ed6e7982",
   "metadata": {},
   "outputs": [
    {
     "name": "stdout",
     "output_type": "stream",
     "text": [
      "[[10. 10.  7.]\n",
      " [ 1.  5. 10.]\n",
      " [ 2.  8.  5.]]\n",
      "\n",
      "Inverse matrix :\n",
      " [[ 0.13 -0.01 -0.16]\n",
      " [-0.04 -0.09  0.22]\n",
      " [ 0.    0.14 -0.1 ]]\n",
      "Determenent :  -414.0\n",
      "Normalization :  21.63\n"
     ]
    }
   ],
   "source": [
    "import numpy as np\n",
    "\n",
    "matrix = (np.random.random((3,3))*10).round()\n",
    "print(matrix,end=\"\\n\\n\")\n",
    "\n",
    "print(\"Inverse matrix :\\n\",np.linalg.inv(matrix).round(2))\n",
    "print(\"Determenent : \",np.linalg.det(matrix).round(2))\n",
    "print(\"Normalization : \",np.linalg.norm(matrix).round(2))"
   ]
  }
 ],
 "metadata": {
  "kernelspec": {
   "display_name": "venv",
   "language": "python",
   "name": "python3"
  },
  "language_info": {
   "codemirror_mode": {
    "name": "ipython",
    "version": 3
   },
   "file_extension": ".py",
   "mimetype": "text/x-python",
   "name": "python",
   "nbconvert_exporter": "python",
   "pygments_lexer": "ipython3",
   "version": "3.12.3"
  }
 },
 "nbformat": 4,
 "nbformat_minor": 5
}
