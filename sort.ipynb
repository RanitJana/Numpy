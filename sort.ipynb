{
 "cells": [
  {
   "cell_type": "markdown",
   "id": "62d55e12",
   "metadata": {},
   "source": [
    "# Sorting"
   ]
  },
  {
   "cell_type": "markdown",
   "id": "b031509c",
   "metadata": {},
   "source": [
    "---\n",
    "- arr.sort()\n",
    "- np.sort(arr,axis)"
   ]
  },
  {
   "cell_type": "code",
   "execution_count": 8,
   "id": "03a91934",
   "metadata": {},
   "outputs": [
    {
     "name": "stdout",
     "output_type": "stream",
     "text": [
      "[8. 6. 2. 9. 5. 3. 8. 3. 6. 2.]\n",
      "Sorted vector :  [2. 2. 3. 3. 5. 6. 6. 8. 8. 9.]\n",
      "\n",
      "[[ 1.  9.  5.  4.  3.]\n",
      " [ 6. 10.  7.  3.  6.]\n",
      " [ 0.  7.  4.  4.  6.]]\n",
      "Row-wise sorted :\n",
      " [[ 1.  3.  4.  5.  9.]\n",
      " [ 3.  6.  6.  7. 10.]\n",
      " [ 0.  4.  4.  6.  7.]]\n",
      "Column-wise sort :\n",
      " [[ 0.  7.  4.  3.  3.]\n",
      " [ 1.  9.  5.  4.  6.]\n",
      " [ 6. 10.  7.  4.  6.]]\n"
     ]
    }
   ],
   "source": [
    "import numpy as np\n",
    "\n",
    "vector = (np.random.random(10)*10).round()\n",
    "print(vector)\n",
    "\n",
    "vector.sort()\n",
    "print(\"Sorted vector : \",vector,end=\"\\n\\n\")\n",
    "\n",
    "matrix = (np.random.random((3,5))*10).round()\n",
    "print(matrix)\n",
    "\n",
    "print(\"Row-wise sorted :\\n\",np.sort(matrix))\n",
    "print(\"Column-wise sort :\\n\",np.sort(matrix,axis=0))\n"
   ]
  }
 ],
 "metadata": {
  "kernelspec": {
   "display_name": "venv",
   "language": "python",
   "name": "python3"
  },
  "language_info": {
   "codemirror_mode": {
    "name": "ipython",
    "version": 3
   },
   "file_extension": ".py",
   "mimetype": "text/x-python",
   "name": "python",
   "nbconvert_exporter": "python",
   "pygments_lexer": "ipython3",
   "version": "3.12.3"
  }
 },
 "nbformat": 4,
 "nbformat_minor": 5
}
