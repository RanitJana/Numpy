{
 "cells": [
  {
   "cell_type": "markdown",
   "id": "921225c4",
   "metadata": {},
   "source": [
    "# Set operations"
   ]
  },
  {
   "cell_type": "markdown",
   "id": "ed937b9b",
   "metadata": {},
   "source": [
    "---\n",
    "- np.union1d(a,b)\n",
    "- np.intersection1d(a,b)\n",
    "- np.setdiff1d(a,b)"
   ]
  },
  {
   "cell_type": "code",
   "execution_count": 5,
   "id": "0358edbf",
   "metadata": {},
   "outputs": [
    {
     "name": "stdout",
     "output_type": "stream",
     "text": [
      "First matrix :\n",
      " [[3. 9. 3. 6.]\n",
      " [8. 2. 0. 8.]\n",
      " [7. 5. 4. 9.]]\n",
      "Second matrix :\n",
      " [[7. 5. 8. 9.]\n",
      " [5. 9. 3. 1.]\n",
      " [4. 4. 1. 4.]]\n",
      "\n",
      "Union :  [0. 1. 2. 3. 4. 5. 6. 7. 8. 9.]\n",
      "Intersection :  [3. 4. 5. 7. 8. 9.]\n",
      "Set difference :  [0. 2. 6.]\n"
     ]
    }
   ],
   "source": [
    "import numpy as np\n",
    "\n",
    "a,b = (np.random.random((3,4))*10).round(),(np.random.random((3,4))*10).round()\n",
    "print(\"First matrix :\\n\",a)\n",
    "print(\"Second matrix :\\n\",b,end=\"\\n\\n\")\n",
    "\n",
    "print(\"Union : \",np.union1d(a,b))\n",
    "print(\"Intersection : \",np.intersect1d(a,b))\n",
    "print(\"Set difference : \",np.setdiff1d(a,b))"
   ]
  }
 ],
 "metadata": {
  "kernelspec": {
   "display_name": "venv",
   "language": "python",
   "name": "python3"
  },
  "language_info": {
   "codemirror_mode": {
    "name": "ipython",
    "version": 3
   },
   "file_extension": ".py",
   "mimetype": "text/x-python",
   "name": "python",
   "nbconvert_exporter": "python",
   "pygments_lexer": "ipython3",
   "version": "3.12.3"
  }
 },
 "nbformat": 4,
 "nbformat_minor": 5
}
