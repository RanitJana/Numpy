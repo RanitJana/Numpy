{
 "cells": [
  {
   "cell_type": "markdown",
   "id": "2a49da6c",
   "metadata": {},
   "source": [
    "# Add and Remove elements from a numpy array\n",
    "\n",
    "---"
   ]
  },
  {
   "cell_type": "markdown",
   "id": "07188c44",
   "metadata": {},
   "source": [
    "- np.append(arr,value)\n",
    "- np.vstack((arr,value))\n",
    "- np.hstack((arr,value))\n"
   ]
  },
  {
   "cell_type": "code",
   "execution_count": 8,
   "id": "e14bcabc",
   "metadata": {},
   "outputs": [
    {
     "name": "stdout",
     "output_type": "stream",
     "text": [
      "[0 1 2 3]\n",
      "After appending value- 50 :  [  0   1   2   3 -50]\n",
      "\n",
      "[[10 11 12 13]\n",
      " [14 15 16 17]\n",
      " [18 19 20 21]]\n",
      "After inserting a new row :\n",
      " [[10 11 12 13]\n",
      " [14 15 16 17]\n",
      " [18 19 20 21]\n",
      " [-2 34 17  9]]\n",
      "After inserting a column :\n",
      " [[ 10  11  12  13 -36]\n",
      " [ 14  15  16  17 -44]\n",
      " [ 18  19  20  21  14]\n",
      " [ -2  34  17   9  31]]\n"
     ]
    }
   ],
   "source": [
    "import numpy as np\n",
    "\n",
    "vector = np.arange(4)\n",
    "print(vector)\n",
    "\n",
    "vector = np.append(vector,-50)\n",
    "print(\"After appending value- 50 : \",vector,end=\"\\n\\n\")\n",
    "\n",
    "matrix = np.arange(10,22).reshape((3,4))\n",
    "print(matrix)\n",
    "\n",
    "row = [-2, 34, 17, 9]\n",
    "col =[[-36],[-44],[14],[31]]\n",
    "\n",
    "matrix = np.vstack((matrix,row))\n",
    "print(\"After inserting a new row :\\n\",matrix)\n",
    "\n",
    "matrix = np.hstack((matrix,col))\n",
    "print(\"After inserting a column :\\n\",matrix)\n",
    "\n"
   ]
  },
  {
   "cell_type": "markdown",
   "id": "f3e396c2",
   "metadata": {},
   "source": [
    "---\n",
    "- np.insert(arr,index,value,axis)"
   ]
  },
  {
   "cell_type": "code",
   "execution_count": 14,
   "id": "eea1ce21",
   "metadata": {},
   "outputs": [
    {
     "name": "stdout",
     "output_type": "stream",
     "text": [
      "[0 1 2 3 4]\n",
      "After inserting value -1000 at index 1 :  [   0 -100    1    2    3    4]\n",
      "\n",
      "[[0 1 2 3 4]\n",
      " [5 6 7 8 9]]\n",
      "After inserting values at row 0 :\n",
      " [[ 63   0   7 -75  61]\n",
      " [  0   1   2   3   4]\n",
      " [  5   6   7   8   9]]\n",
      "After inserting a column at index 2 :\n",
      " [[ 63   0 100   7 -75  61]\n",
      " [  0   1 200   2   3   4]\n",
      " [  5   6 300   7   8   9]]\n"
     ]
    }
   ],
   "source": [
    "import numpy as np\n",
    "\n",
    "vector = np.arange(5)\n",
    "print(vector)\n",
    "\n",
    "vector = np.insert(vector,1,-100)\n",
    "print(\"After inserting value -1000 at index 1 : \",vector,end=\"\\n\\n\")\n",
    "\n",
    "matrix = np.arange(10).reshape((2,5))\n",
    "print(matrix)\n",
    "\n",
    "row = [63, 0, 7, -75, 61]\n",
    "matrix = np.insert(matrix, 0, row, axis=0)  # axis 0 for row and 1 for column and 2 for depth and so on. \n",
    "print(\"After inserting values at row 0 :\\n\",matrix)\n",
    "\n",
    "col = [100, 200, 300]\n",
    "matrix = np.insert(matrix, 2, col, axis=1)\n",
    "print(\"After inserting a column at index 2 :\\n\",matrix)\n"
   ]
  },
  {
   "cell_type": "markdown",
   "id": "a50f7972",
   "metadata": {},
   "source": [
    "---\n",
    "- np.delete(arr,index,axis)"
   ]
  },
  {
   "cell_type": "code",
   "execution_count": 18,
   "id": "6d130ff1",
   "metadata": {},
   "outputs": [
    {
     "name": "stdout",
     "output_type": "stream",
     "text": [
      "[[ 63   0 100   7 -75  61]\n",
      " [  0   1 200   2   3   4]\n",
      " [  5   6 300   7   8   9]]\n",
      "After deleting column number 3 :\n",
      " [[ 63   0   7 -75  61]\n",
      " [  0   1   2   3   4]\n",
      " [  5   6   7   8   9]]\n"
     ]
    }
   ],
   "source": [
    "import numpy as np\n",
    "\n",
    "matrix = np.array([\n",
    " [ 63,   0, 100,   7, -75,  61],\n",
    " [  0,   1, 200,   2,   3,   4],\n",
    " [  5,   6, 300,   7,   8,   9]\n",
    " ])\n",
    "print(matrix)\n",
    "\n",
    "matrix = np.delete(matrix, 2, axis=1)\n",
    "print(\"After deleting column number 3 :\\n\",matrix)\n"
   ]
  }
 ],
 "metadata": {
  "kernelspec": {
   "display_name": "venv",
   "language": "python",
   "name": "python3"
  },
  "language_info": {
   "codemirror_mode": {
    "name": "ipython",
    "version": 3
   },
   "file_extension": ".py",
   "mimetype": "text/x-python",
   "name": "python",
   "nbconvert_exporter": "python",
   "pygments_lexer": "ipython3",
   "version": "3.12.3"
  }
 },
 "nbformat": 4,
 "nbformat_minor": 5
}
