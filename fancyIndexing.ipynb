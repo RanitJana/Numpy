{
 "cells": [
  {
   "cell_type": "markdown",
   "id": "f12dfa8a",
   "metadata": {},
   "source": [
    "# Fancy indexing\n",
    "\n",
    "---"
   ]
  },
  {
   "cell_type": "markdown",
   "id": "22b142b4",
   "metadata": {},
   "source": [
    "- np.where(condition)"
   ]
  },
  {
   "cell_type": "code",
   "execution_count": 6,
   "id": "0af4de7f",
   "metadata": {},
   "outputs": [
    {
     "name": "stdout",
     "output_type": "stream",
     "text": [
      "[[ 0  1  2  3]\n",
      " [ 4  5  6  7]\n",
      " [ 8  9 10 11]]\n",
      "\n",
      "Values are :  [ 1  5 10  7]\n",
      "\n",
      "Boolean values :  (array([0, 0, 1, 1, 2, 2]), array([1, 3, 1, 3, 1, 3]))\n",
      "Filtered array :  [ 1  3  5  7  9 11]\n"
     ]
    }
   ],
   "source": [
    "import numpy as np\n",
    "\n",
    "arr = np.arange(12).reshape((3,4))\n",
    "print(arr,end=\"\\n\\n\")\n",
    "\n",
    "# now select 1, 5, 10 and 7 from the list at once\n",
    "# positions : 1->(0,1), 5->(1,1), 10->(2,2), 7->(1,3)\n",
    "print(\"Values are : \",arr[[0, 1, 2, 1],[1, 1, 2, 3]],end=\"\\n\\n\")\n",
    "\n",
    "# we can use np.where(condition) method to use some condition\n",
    "booleanValues = np.where(arr&1)\n",
    "print(\"Boolean values : \",booleanValues)\n",
    "\n",
    "print(\"Filtered array : \",arr[booleanValues])\n"
   ]
  }
 ],
 "metadata": {
  "kernelspec": {
   "display_name": "venv",
   "language": "python",
   "name": "python3"
  },
  "language_info": {
   "codemirror_mode": {
    "name": "ipython",
    "version": 3
   },
   "file_extension": ".py",
   "mimetype": "text/x-python",
   "name": "python",
   "nbconvert_exporter": "python",
   "pygments_lexer": "ipython3",
   "version": "3.12.3"
  }
 },
 "nbformat": 4,
 "nbformat_minor": 5
}
